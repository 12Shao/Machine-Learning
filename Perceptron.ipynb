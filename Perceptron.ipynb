{
 "cells": [
  {
   "cell_type": "markdown",
   "metadata": {},
   "source": [
    "## Perceptron Tutorial\n",
    "\n",
    "The perceptron algorithm is a supervised algorithm for binary classification. This linear classifier was introduced by Frank Rosenblatt in 1957 in his paper, 'The Perceptron--a perceiving and recognizing automaton.' The perceptron makes it predictions based on a linear combination of it's weights with the feature vector. It also allows for online learning, which means that it can process each element in a training set one at a time. \n",
    "\n",
    "The perceptron is trained with the 'perceptron learning rule' which is defined as follows:\n",
    "\n",
    "1. Initialize the weight vector (Wo), either to 0 or small random numbers. \n",
    "2. Calculate the initial 'guess' as a linear combination of that weight vector and the first input.\n",
    "3. Compare the perceptron output to the target output (error). Since this is a binary classification algorithm out outputs and targets will either be values of 0 or 1 which are used as the class codes.\n",
    "4. Update the weight vector (Wn) depending on how the target compares to the perceptron output. If the target is less than the output than the weights will be decreased and if the target is greater than the output the weights will be increased. \n",
    "5. Steps 1-4 are repeated until every output matches the target value for each training example.\n",
    "\n",
    "Here we are going to code up a perceptron and train it with the perceptron learning rule using a hard limit as the activation function. I am using numpy here because it is readible and optimized for linear algebra operations. I am defining the perceptron rule as:\n",
    "\n",
    "Wn = Wo + alpha * error * p.T\n",
    "\n",
    "error = true - predicted\n",
    "\n",
    "The first step is to set up the python class for our perceptron and load the necessary libraries."
   ]
  },
  {
   "cell_type": "code",
   "execution_count": 255,
   "metadata": {
    "collapsed": false
   },
   "outputs": [],
   "source": [
    "import random\n",
    "import numpy as np\n",
    "\n",
    "import matplotlib.pyplot as plt\n",
    "%matplotlib inline\n",
    "plt.style.use('ggplot')\n",
    "\n",
    "def hardlim(a):\n",
    "    if a > 0.0:\n",
    "        return 1.\n",
    "    else:\n",
    "        return 0.\n",
    "\n",
    "class Perceptron(object):\n",
    "    '''\n",
    "    simple feed forward perceptron with a hard limit activation\n",
    "    trained with the perceptron learning rule\n",
    "    '''\n",
    "    def __init__(self):\n",
    "        self.alpha = None # the alpha will be our learning rate or step size\n",
    "        # initialize weights\n",
    "        self.w = None\n",
    "\n",
    "    def response(self, X):\n",
    "        '''\n",
    "        perceptron response\n",
    "        :param X: input vector\n",
    "        :return: perceptron out\n",
    "        '''\n",
    "        a = hardlim(np.dot(X, self.w))\n",
    "        return a\n",
    "\n",
    "    def updateWeight(self, X, error):\n",
    "        '''\n",
    "        update the vector of input weights\n",
    "        :param X: input data\n",
    "        :param error: prediction != true\n",
    "        :return: updated weight vector\n",
    "        '''\n",
    "        self.w += self.alpha * np.dot(error, X)\n",
    "\n",
    "    def train(self, X, y, alpha, iterations):\n",
    "        '''\n",
    "        trains perceptron on vector data by looping each row and updating the weight vector\n",
    "        :param X: input data\n",
    "        :param y: correct y value\n",
    "        :return: updated parameters\n",
    "        '''\n",
    "        self.alpha = alpha\n",
    "        \n",
    "        num_examples, num_features = np.shape(X)\n",
    "\n",
    "        # set up bias\n",
    "        bias = np.ones(shape =(num_examples,1))\n",
    "        X = np.hstack((X, bias))\n",
    "\n",
    "        # initialize weight vector\n",
    "        self.w = np.random.rand(num_features + 1)\n",
    "        \n",
    "        error_count = []\n",
    "\n",
    "        for i in range(iterations):\n",
    "            for j in range(num_examples):\n",
    "                prediction = self.response(X[j])\n",
    "                error = int(y[j]) - prediction \n",
    "                self.updateWeight(X[j], error)\n",
    "                error_count.append(error)\n",
    "                \n",
    "        error_count = np.array(error_count)\n",
    "        plt.plot(error_count)\n",
    "        plt.ylim([-1,1])\n",
    "        plt.show()"
   ]
  },
  {
   "cell_type": "markdown",
   "metadata": {},
   "source": [
    "Add explaination of each part and how it relates to the book.\n",
    "\n",
    "Now we will come up with some data for the perceptron to solve. From [Neural Network Design](http://hagan.okstate.edu/NNDesign.pdf) page 4-7. Let's plot the points below."
   ]
  },
  {
   "cell_type": "code",
   "execution_count": 256,
   "metadata": {
    "collapsed": false
   },
   "outputs": [
    {
     "data": {
      "image/png": "[encoded data removed]",
      "text/plain": [
       "<matplotlib.figure.Figure at 0x1108b86d0>"
      ]
     },
     "metadata": {},
     "output_type": "display_data"
    }
   ],
   "source": [
    "X = np.array([[0,0],\n",
    "              [0,1],\n",
    "              [1,0],\n",
    "              [1,1]])\n",
    "\n",
    "y = np.array([[0],\n",
    "              [0],\n",
    "              [0],\n",
    "              [1]])\n",
    "\n",
    "# plot the points\n",
    "plt.plot(X[0][0],X[0][1], 'ro', markersize=15)\n",
    "plt.plot(X[1][0],X[1][1], 'ro', markersize=15)\n",
    "plt.plot(X[2][0],X[2][1], 'ro', markersize=15)\n",
    "plt.plot(X[3][0],X[3][1], 'bo', markersize=15)\n",
    "plt.axis([-0.1,1.1,-0.1,1.1])\n",
    "plt.show()"
   ]
  },
  {
   "cell_type": "markdown",
   "metadata": {},
   "source": [
    "So we are trying to draw a decision boundary to seperate the blue from the red circles. \n",
    "\n",
    "Lets train the network and see how it does. "
   ]
  },
  {
   "cell_type": "code",
   "execution_count": 258,
   "metadata": {
    "collapsed": false
   },
   "outputs": [
    {
     "data": {
      "image/png": "[encoded data removed]",
      "text/plain": [
       "<matplotlib.figure.Figure at 0x112ef7650>"
      ]
     },
     "metadata": {},
     "output_type": "display_data"
    }
   ],
   "source": [
    "\n",
    "model = Perceptron()\n",
    "\n",
    "model.train(X, y, alpha=0.03, iterations=20)\n",
    "    "
   ]
  },
  {
   "cell_type": "raw",
   "metadata": {},
   "source": [
    "This plot allows us to see how many examples the perceptron needed to see in order to converge to a solution. Anytime the error shows -1 that means that the true prediction was 0 and our perceptron predicted 1. Anytime the error shows 1 that means that the true was 1 and the perceptron predicted 0. When the error is 0 that's when the perceptron got that training case correct.\n",
    "\n",
    "Now lets plot the decision boundary from the perceptron."
   ]
  },
  {
   "cell_type": "code",
   "execution_count": 254,
   "metadata": {
    "collapsed": false
   },
   "outputs": [
    {
     "data": {
      "image/png": "[encoded data removed]",
      "text/plain": [
       "<matplotlib.figure.Figure at 0x113126950>"
      ]
     },
     "metadata": {},
     "output_type": "display_data"
    }
   ],
   "source": [
    "n = np.linalg.norm(model.w[0:2])\n",
    "ww = (model.w[0:2]) / n\n",
    "ww1 = [float(ww[1]), -1.0*float(ww[0])]\n",
    "ww2 = [-1.0*float(ww[1]), float(ww[0])]\n",
    "plt.plot([ww1[0]-model.w[2],ww2[0]-model.w[2]], [ww1[1]-model.w[2],ww2[1]-model.w[2]])\n",
    "plt.plot(X[0][0],X[0][1], 'ro', markersize=15)\n",
    "plt.plot(X[1][0],X[1][1], 'ro', markersize=15)\n",
    "plt.plot(X[2][0],X[2][1], 'ro', markersize=15)\n",
    "plt.plot(X[3][0],X[3][1], 'bo', markersize=15)\n",
    "plt.axis([-0.1,1.1,-0.1,1.1])\n",
    "plt.show()"
   ]
  },
  {
   "cell_type": "code",
   "execution_count": 252,
   "metadata": {
    "collapsed": false
   },
   "outputs": [
    {
     "data": {
      "text/plain": [
       "array([ 0.62350933,  0.5998951 , -0.65792909])"
      ]
     },
     "execution_count": 252,
     "metadata": {},
     "output_type": "execute_result"
    }
   ],
   "source": [
    "model.w[0:3]"
   ]
  },
  {
   "cell_type": "code",
   "execution_count": 220,
   "metadata": {
    "collapsed": false
   },
   "outputs": [
    {
     "name": "stdout",
     "output_type": "stream",
     "text": [
      "-0.757752591671\n",
      "-0.652541960195\n",
      "0.757752591671\n",
      "0.652541960195\n",
      "0.776211719759\n"
     ]
    }
   ],
   "source": [
    "print ww1[0]\n",
    "print ww1[1]\n",
    "print ww2[0]\n",
    "print ww2[1]\n",
    "print np.linalg.norm(model.w[0:2])"
   ]
  },
  {
   "cell_type": "code",
   "execution_count": null,
   "metadata": {
    "collapsed": true
   },
   "outputs": [],
   "source": []
  }
 ],
 "metadata": {
  "kernelspec": {
   "display_name": "Python 2",
   "language": "python",
   "name": "python2"
  },
  "language_info": {
   "codemirror_mode": {
    "name": "ipython",
    "version": 2
   },
   "file_extension": ".py",
   "mimetype": "text/x-python",
   "name": "python",
   "nbconvert_exporter": "python",
   "pygments_lexer": "ipython2",
   "version": "2.7.8"
  }
 },
 "nbformat": 4,
 "nbformat_minor": 0
}
